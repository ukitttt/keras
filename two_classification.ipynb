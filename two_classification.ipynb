{
 "cells": [
  {
   "cell_type": "code",
   "execution_count": null,
   "metadata": {
    "collapsed": true
   },
   "outputs": [],
   "source": [
    "# Install keras\n",
    "!sudo pip install keras\n",
    "# Install tensorflow\n",
    "#!sudo pip install --upgrade virtualenv\n",
    "!conda install -c conda-forge tensorflow"
   ]
  },
  {
   "cell_type": "code",
   "execution_count": 3,
   "metadata": {
    "collapsed": false
   },
   "outputs": [
    {
     "name": "stderr",
     "output_type": "stream",
     "text": [
      "Using TensorFlow backend.\n"
     ]
    }
   ],
   "source": [
    "from keras.models import Sequential\n",
    "from keras.layers import Dense, Dropout, Activation\n",
    "from keras.optimizers import SGD\n",
    "import keras.callbacks as cb"
   ]
  },
  {
   "cell_type": "code",
   "execution_count": 4,
   "metadata": {
    "collapsed": false
   },
   "outputs": [],
   "source": [
    "import numpy as np\n",
    "import pandas as pd\n",
    "import sklearn.cross_validation as cv"
   ]
  },
  {
   "cell_type": "markdown",
   "metadata": {},
   "source": [
    "# get dataset"
   ]
  },
  {
   "cell_type": "code",
   "execution_count": 5,
   "metadata": {
    "collapsed": false
   },
   "outputs": [],
   "source": [
    "data = pd.read_csv('http://archive.ics.uci.edu/ml/machine-learning-databases/'\\\n",
    "                   'pima-indians-diabetes/pima-indians-diabetes.data', header = None)\n",
    "\n",
    "X = data.drop(8,axis=1)\n",
    "y = data[8]\n",
    "X_train, X_test, y_train, y_test = cv.train_test_split(X,y,test_size=0.2)\n",
    "X_train = np.array(X_train)\n",
    "y_train = np.array(y_train)\n",
    "X_test = np.array(X_test)\n",
    "y_test = np.array(y_test)"
   ]
  },
  {
   "cell_type": "markdown",
   "metadata": {
    "collapsed": true
   },
   "source": [
    "# create model using MLP"
   ]
  },
  {
   "cell_type": "code",
   "execution_count": 9,
   "metadata": {
    "collapsed": false,
    "scrolled": true
   },
   "outputs": [
    {
     "name": "stderr",
     "output_type": "stream",
     "text": [
      "/Users/yukitanimoto/anaconda3/lib/python3.5/site-packages/ipykernel/__main__.py:2: UserWarning: Update your `Dense` call to the Keras 2 API: `Dense(614, activation=\"relu\", input_dim=8, kernel_initializer=\"uniform\")`\n",
      "  from ipykernel import kernelapp as app\n"
     ]
    }
   ],
   "source": [
    "model = Sequential()\n",
    "model.add(Dense(614, input_dim=8, init='uniform', activation='relu'))\n",
    "model.add(Dropout(0.5))\n",
    "model.add(Dense(614, activation='relu'))\n",
    "model.add(Dropout(0.5))\n",
    "model.add(Dense(1, activation='sigmoid'))\n",
    "\n",
    "model.compile(loss='binary_crossentropy',\n",
    "              optimizer='rmsprop',\n",
    "              metrics=['accuracy'])"
   ]
  },
  {
   "cell_type": "code",
   "execution_count": 10,
   "metadata": {
    "collapsed": false
   },
   "outputs": [],
   "source": [
    "log_filepath = './log'\n",
    "tb_cb = cb.TensorBoard(log_dir=log_filepath, histogram_freq=1)\n",
    "cbks = [tb_cb]"
   ]
  },
  {
   "cell_type": "code",
   "execution_count": 11,
   "metadata": {
    "collapsed": false,
    "scrolled": false
   },
   "outputs": [
    {
     "name": "stderr",
     "output_type": "stream",
     "text": [
      "/Users/yukitanimoto/anaconda3/lib/python3.5/site-packages/keras/models.py:844: UserWarning: The `nb_epoch` argument in `fit` has been renamed `epochs`.\n",
      "  warnings.warn('The `nb_epoch` argument in `fit` '\n"
     ]
    },
    {
     "name": "stdout",
     "output_type": "stream",
     "text": [
      "Epoch 1/10\n",
      "614/614 [==============================] - 0s - loss: 4.5481 - acc: 0.5831     \n",
      "Epoch 2/10\n",
      "614/614 [==============================] - 0s - loss: 3.8288 - acc: 0.5749     \n",
      "Epoch 3/10\n",
      "614/614 [==============================] - 0s - loss: 2.5068 - acc: 0.5831     \n",
      "Epoch 4/10\n",
      "614/614 [==============================] - 0s - loss: 2.0832 - acc: 0.5668     \n",
      "Epoch 5/10\n",
      "614/614 [==============================] - 0s - loss: 1.5023 - acc: 0.5912     \n",
      "Epoch 6/10\n",
      "614/614 [==============================] - 0s - loss: 1.1874 - acc: 0.6091     \n",
      "Epoch 7/10\n",
      "614/614 [==============================] - 0s - loss: 1.1330 - acc: 0.6189     \n",
      "Epoch 8/10\n",
      "614/614 [==============================] - 0s - loss: 1.0294 - acc: 0.6091     \n",
      "Epoch 9/10\n",
      "614/614 [==============================] - 0s - loss: 0.9231 - acc: 0.6173     \n",
      "Epoch 10/10\n",
      "614/614 [==============================] - 0s - loss: 0.7451 - acc: 0.6661     \n",
      " 50/154 [========>.....................] - ETA: 0s"
     ]
    }
   ],
   "source": [
    "model.fit(X_train, y_train,nb_epoch=10,batch_size=50, callbacks=cbks)\n",
    "score = model.evaluate(X_test, y_test, batch_size=50)"
   ]
  },
  {
   "cell_type": "code",
   "execution_count": 12,
   "metadata": {
    "collapsed": false
   },
   "outputs": [
    {
     "name": "stdout",
     "output_type": "stream",
     "text": [
      "['loss', 'acc']\n",
      "[0.58453812459846599, 0.70779220314768998]\n"
     ]
    }
   ],
   "source": [
    "print(model.metrics_names)\n",
    "print(score)"
   ]
  }
 ],
 "metadata": {
  "kernelspec": {
   "display_name": "Python 3",
   "language": "python",
   "name": "python3"
  },
  "language_info": {
   "codemirror_mode": {
    "name": "ipython",
    "version": 3
   },
   "file_extension": ".py",
   "mimetype": "text/x-python",
   "name": "python",
   "nbconvert_exporter": "python",
   "pygments_lexer": "ipython3",
   "version": "3.5.2"
  }
 },
 "nbformat": 4,
 "nbformat_minor": 2
}
